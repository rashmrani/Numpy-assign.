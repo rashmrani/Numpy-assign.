{
  "nbformat": 4,
  "nbformat_minor": 0,
  "metadata": {
    "colab": {
      "provenance": []
    },
    "kernelspec": {
      "name": "python3",
      "display_name": "Python 3"
    },
    "language_info": {
      "name": "python"
    }
  },
  "cells": [
    {
      "cell_type": "code",
      "execution_count": null,
      "metadata": {
        "id": "uQ3RMpdGsjWs"
      },
      "outputs": [],
      "source": []
    },
    {
      "cell_type": "markdown",
      "source": [
        "# 1.Explain the purpose and advantages of numpy in scientific computing and data analysis.How does it enhance pythons capabilitiesfor numerical operation?"
      ],
      "metadata": {
        "id": "P7hnnZWatb_H"
      }
    },
    {
      "cell_type": "code",
      "source": [],
      "metadata": {
        "id": "SvmxmKscuRnR"
      },
      "execution_count": null,
      "outputs": []
    },
    {
      "cell_type": "markdown",
      "source": [
        "Numpy is a python library thats a fundamental tool for scientific computing and data analysis.it used for scientific programming,including engineering,mathematics,and science.numpy hasmany advantages are,\n",
        "\n",
        "\n",
        "Speed\n",
        "\n",
        "Numpy is faster than python lists for numerical computations because numpy arrays are made up of similar data types and are packed densely in memory.\n",
        "\n",
        "memory efficiency\n",
        "\n",
        "numpy arrays use contiguous memory blocks,which reduces overhead compared to python lists.\n",
        "\n",
        "Manageable syntax\n",
        "\n",
        "Numpy uses manageable syntax that makes learning accessible.\n",
        "\n",
        "broadcasting   \n",
        "\n",
        "numpy uses broadcasting,which allows it to perform operation on entire arrays of different sizes.\n",
        "\n",
        "reshaping\n",
        "\n",
        "you can change the shape of an array without changing its data.\n",
        "\n"
      ],
      "metadata": {
        "id": "A8tuePojugjt"
      }
    },
    {
      "cell_type": "code",
      "source": [],
      "metadata": {
        "id": "k7ybKoupw1_Z"
      },
      "execution_count": null,
      "outputs": []
    },
    {
      "cell_type": "markdown",
      "source": [
        "# 2.Compare and contrast np.mean()and np.average()function in numpy.when would you use one over the others?"
      ],
      "metadata": {
        "id": "SgtsoIlzxGKQ"
      }
    },
    {
      "cell_type": "code",
      "source": [],
      "metadata": {
        "id": "pGzM_1Vjxbpp"
      },
      "execution_count": null,
      "outputs": []
    },
    {
      "cell_type": "markdown",
      "source": [
        "The numpy library,there are two function np. mean() and np.average()are present.bothare actually doing nearly the same job of calculating mean/average.the defferance comes when we are calculating the weighted average.if that is the case then we have to use np.average().\n",
        "\n",
        "Difference between np.average()and np.mean()\n",
        "\n",
        "np.mean()\n",
        "\n",
        "use to calculate arithmetic mean\n",
        "\n",
        "all elements have equal weight\n",
        "\n",
        "weight passed through the parameter of the given function\n",
        "\n",
        "syntax:-\n",
        "\n",
        "np.mean(arr,axis=none)\n",
        "\n",
        "where \"arr\"is the given array.\n",
        "\n",
        "np. average()\n",
        "\n",
        "use to calculate the arithmetic mean as well as weighted average.\n",
        "\n",
        "all elements may or may not have equal weight.\n",
        "\n",
        "weight can be passed through the parameter of the given function.\n",
        "\n",
        "numpy.average(arr,axis=none,weight=none)\n",
        "\n",
        "where \"arr\" is the given arry"
      ],
      "metadata": {
        "id": "pMlosWJ4xsty"
      }
    },
    {
      "cell_type": "code",
      "source": [],
      "metadata": {
        "id": "CuiTDsa30gsG"
      },
      "execution_count": null,
      "outputs": []
    },
    {
      "cell_type": "markdown",
      "source": [
        "# 3.Describe the methods for reversing a numpy arry along different axes.provide examples for ID and 2D arrays."
      ],
      "metadata": {
        "id": "32QYSTZI0hXU"
      }
    },
    {
      "cell_type": "code",
      "source": [],
      "metadata": {
        "id": "Pb5kUK971Ct9"
      },
      "execution_count": null,
      "outputs": []
    },
    {
      "cell_type": "markdown",
      "source": [
        "The numpy.flip()function reverses the order of array elements along the specifiedaxis,preserving the shape of the array.\n",
        "\n",
        "The list sliing method reverse a numpy array\n",
        "\n",
        "this method makes a copy of the list instead of sorting it in order.to accommodate all of the current components,making a clone requires additional room.more RAM IS USED IN THIS WAY.\n",
        "\n",
        "The flipud function to reverse a numpy array\n",
        "\n",
        "Thenumpy.flipud()function flips he array(entries in each column)in up-down diection,shape preserved.\n",
        "\n"
      ],
      "metadata": {
        "id": "qePQL85w1GAu"
      }
    },
    {
      "cell_type": "code",
      "source": [],
      "metadata": {
        "id": "kpLlcFLT3BaF"
      },
      "execution_count": null,
      "outputs": []
    },
    {
      "cell_type": "markdown",
      "source": [],
      "metadata": {
        "id": "JYi6jnsq3C5t"
      }
    },
    {
      "cell_type": "markdown",
      "source": [
        "# 4.How can you determine the data type of elements in a numpy array?Discuss the importance of data types in memory management and performance."
      ],
      "metadata": {
        "id": "jNZVGz7O3DEJ"
      }
    },
    {
      "cell_type": "code",
      "source": [],
      "metadata": {
        "id": "FUkPsT-23lN1"
      },
      "execution_count": null,
      "outputs": []
    },
    {
      "cell_type": "markdown",
      "source": [
        "We can chck the dattype of numpy array.by using dtype.then it return the data type all the elements in the array.in the given ex below we import numpy library.and craete an arry using \"array()\"method with integr value.\n",
        "\n",
        "size of an array\n",
        "\n",
        "numpy array has an attribute called size that tells you the total number of elements in the array.\n",
        "\n",
        "data type of array\n",
        "\n",
        "you can check the type of data present in the numpy array using the dtype attribute.\n",
        "\n",
        "shapr of an array\n",
        "\n",
        "an array has an attribute called shape that tells you the number of items along each axis.\n",
        "\n",
        "type()function and dtype method\n",
        "everything in python is a object if you want to known the tyype of data present in that array,you will use the type () function to wil use the attribute dtype.this is also called the type of numpy array.\n",
        "\n",
        "caution dtype method on python lists\n",
        "\n",
        "this is to be taken care that python lists don not support the dtype atribute or any other methods supported by a numpy array."
      ],
      "metadata": {
        "id": "cT-cDdZd3l9w"
      }
    },
    {
      "cell_type": "markdown",
      "source": [
        "                              "
      ],
      "metadata": {
        "id": "DDzFi6yf4eWX"
      }
    },
    {
      "cell_type": "markdown",
      "source": [
        "# 5.Define ndarrays in numpy and explain their key features.how do they differ from standard python list?"
      ],
      "metadata": {
        "id": "BgAjjttK8WTW"
      }
    },
    {
      "cell_type": "code",
      "source": [],
      "metadata": {
        "id": "UWZssNSv9Cdy"
      },
      "execution_count": null,
      "outputs": []
    },
    {
      "cell_type": "markdown",
      "source": [],
      "metadata": {
        "id": "hG4E-KzS9DWe"
      }
    },
    {
      "cell_type": "markdown",
      "source": [
        "the primary data structure in numpy is the n-dimensional array --called an ndarray or simply an array.every ndarray is a fixed-size array hat is kept in memory and contains the same type of data such as integer or floating-point numbers.\n",
        "\n",
        "Numpy is an open source mathematical and scientific computing libray for python programming tasks.The numpy is shorthand for numerical python.the numpy libray offers a collection of high-level mathematical function including support for multi-dimensional arrays,masked arrays and matric.\n",
        "\n",
        "Numpy is the fundamental package for scientific computing in python.\n",
        "\n",
        "\n",
        "An ndarray can possess up to three dimensions including arry length,width and height or layers.\n"
      ],
      "metadata": {
        "id": "Ei6YUnkf9Fmh"
      }
    },
    {
      "cell_type": "code",
      "source": [],
      "metadata": {
        "id": "O4JNLu-bBQEi"
      },
      "execution_count": null,
      "outputs": []
    },
    {
      "cell_type": "markdown",
      "source": [
        "# 6.Analyze the performance benefits of numpy arrays over python lists for large-scale numerical operation."
      ],
      "metadata": {
        "id": "VIfT_t4qDeN_"
      }
    },
    {
      "cell_type": "markdown",
      "source": [],
      "metadata": {
        "id": "8eXzFe5EDa2Y"
      }
    },
    {
      "cell_type": "markdown",
      "source": [
        "Speed boost\n",
        "\n",
        "Numpy arrays provide a significant speed advantage over traditional lists.this is because numpy is built in C and uses optimized,pre-comiled code for numerical operations.this allows for vectorization,which means operations are applied to all elements in an array without the need for explicit loops in python.\n",
        "\n",
        "Memory usage\n",
        "\n",
        "when it comes to memory efficiency,numpy arrays are far superior to traditional lists.each item in a numpy array is of the same data type,requiring less memory overhead compared to python lists where each elements can be of a different type.\n",
        "\n",
        "Advanced function\n",
        "\n",
        "numpy come with a plethora of built-in function for performing complex mathematical operations,which are not only faster but also more reliable than writing your own functions from scratch.\n",
        "\n",
        "Multidimensional data\n",
        "\n",
        "Traditionalpython lists are not optimize for multidimensional data operation.Numpy,however,excels in handling such data structures with its multidimensional array support.\n",
        "\n",
        "Board compatibility\n",
        "\n",
        "numpy is widely supported and compatible with many other python libraries used in datascience,such as pandas,matplotlib,and scipy."
      ],
      "metadata": {
        "id": "m5AHftBpF3gU"
      }
    },
    {
      "cell_type": "code",
      "source": [],
      "metadata": {
        "id": "MNPzceQeLR02"
      },
      "execution_count": null,
      "outputs": []
    },
    {
      "cell_type": "markdown",
      "source": [
        "# 7.Compare vstack() and hstack() function in numpy.provide examples demonstrating their usage and output."
      ],
      "metadata": {
        "id": "nS_yqjQGLUdD"
      }
    },
    {
      "cell_type": "code",
      "source": [],
      "metadata": {
        "id": "0X5QBa9ZNECj"
      },
      "execution_count": null,
      "outputs": []
    },
    {
      "cell_type": "markdown",
      "source": [
        "numpy.hstack()function is used to stack the sequence of input arrays horizontally to make a single array.\n",
        "\n",
        "this function is useful in the scenarios when we have to concatenate two arrays of different shapes along the second axis(column-wise)\n",
        "\n",
        "his is equivalent to concatenation along the second axis,except for 1-Darrays where it concatenates along the first axis.\n",
        "\n",
        "\n",
        "numpy.vstack() function is used to stack the sequence of input arrays vertically to make a single array.\n",
        "\n",
        "\n",
        "vstack wll create a two-dimensional array that corresponds to the largest array being stacked\n",
        "\n",
        "vstack return the array formed by appending each of the array arguments in a row-wise fashion.\n",
        "\n",
        "\n",
        "vstack stands for vertical stack,and as the name suggest,it allows you to stack ranges of data vertically.function is particularly useful when you need to combine multiple ranges or arrays into a single,cohesive column."
      ],
      "metadata": {
        "id": "c1ItKEgEN7FU"
      }
    },
    {
      "cell_type": "markdown",
      "source": [],
      "metadata": {
        "id": "QvrMrL-kTxTS"
      }
    },
    {
      "cell_type": "markdown",
      "source": [
        "# 9.Discuss the functionality of thr array_split() method in numpy.how does it handle uneven splits?"
      ],
      "metadata": {
        "id": "YfJjrIBOT2C5"
      }
    },
    {
      "cell_type": "code",
      "source": [],
      "metadata": {
        "id": "QWid84M-UhLS"
      },
      "execution_count": null,
      "outputs": []
    },
    {
      "cell_type": "markdown",
      "source": [
        "It allowss for uneven splitting of arrays.this is useful when the array can not be evenly divided by the specified number of splits.\n",
        "\n",
        "1.splitting arrays into equal parts using numpy.split()\n",
        "\n",
        "\n",
        "2.unequal splitting of arrays using\n",
        "\n",
        "3.splitting numpy 2D arrays\n",
        "\n",
        "4.vertical splitting of arrays using\n",
        "\n",
        "5.horizontal splitting of arrays using\n",
        "\n",
        "6.splitting arrays along the third axis using numpy\n",
        "\n",
        "\n",
        "\n"
      ],
      "metadata": {
        "id": "bGEs9iOFUiUr"
      }
    },
    {
      "cell_type": "code",
      "source": [],
      "metadata": {
        "id": "x-1bEg89XMph"
      },
      "execution_count": null,
      "outputs": []
    },
    {
      "cell_type": "markdown",
      "source": [
        "# 10.Explain the concepts of vectorization and boardcasting in numpy.how do they contribute to efficient array operation?"
      ],
      "metadata": {
        "id": "0lPr-U3AXYLv"
      }
    },
    {
      "cell_type": "markdown",
      "source": [],
      "metadata": {
        "id": "992OJE3ZXOeD"
      }
    },
    {
      "cell_type": "markdown",
      "source": [
        "Boardcasting provides a means for vectorizing the aray operations so that looping would take place in c.it is a mehanism used by numpy when it has to perform arithmetic operation on arrays with different shapes.usal numpy boardcasting operation on two arrays are done on an element-by-element basis.\n",
        "\n",
        "vectorization is a technique used to improve the performance of python code by eliminating the use loops .this features can significantly reduce the execution time ofcode.\n",
        "\n",
        "numpy arrays can only have a single data type and the data is stored in a continuous block of memory.by utilizing this,numpy perform operations on these arrays by delegating them to optimize pre-compiled Ccode,which improves performance."
      ],
      "metadata": {
        "id": "C9LmFKLJX7Ks"
      }
    },
    {
      "cell_type": "code",
      "source": [],
      "metadata": {
        "id": "uAksqbNsbuBJ"
      },
      "execution_count": null,
      "outputs": []
    }
  ]
}